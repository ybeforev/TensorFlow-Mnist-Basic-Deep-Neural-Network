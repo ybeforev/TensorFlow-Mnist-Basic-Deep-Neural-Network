{
 "cells": [
  {
   "cell_type": "markdown",
   "metadata": {},
   "source": [
    "# Dnn"
   ]
  },
  {
   "cell_type": "code",
   "execution_count": 1,
   "metadata": {
    "collapsed": true
   },
   "outputs": [],
   "source": [
    "import tensorflow as tf\n",
    "import numpy as np\n",
    "import matplotlib.pyplot as plt\n",
    "from tensorflow.examples.tutorials.mnist import input_data"
   ]
  },
  {
   "cell_type": "code",
   "execution_count": 2,
   "metadata": {
    "collapsed": false
   },
   "outputs": [
    {
     "name": "stdout",
     "output_type": "stream",
     "text": [
      "Extracting ./data/train-images-idx3-ubyte.gz\n",
      "Extracting ./data/train-labels-idx1-ubyte.gz\n",
      "Extracting ./data/t10k-images-idx3-ubyte.gz\n",
      "Extracting ./data/t10k-labels-idx1-ubyte.gz\n"
     ]
    }
   ],
   "source": [
    "#Call tf.reset_default_graph() before you build your model (and the Saver). This will ensure that the variables get the names you intended, but it will invalidate previously-created graphs.\n",
    "tf.reset_default_graph() \n",
    "\n",
    "# random number seed\n",
    "np.random.seed(0)\n",
    "tf.set_random_seed(0)\n",
    "\n",
    "# load data\n",
    "mnist = input_data.read_data_sets(\"./data/\", one_hot=True)"
   ]
  },
  {
   "cell_type": "markdown",
   "metadata": {},
   "source": [
    "## Define Model\n",
    "4 Layers with 1000, 1000, 1000, 10 nodes each.<br>\n",
    "The last layer's activation function is softmx and other's are relu."
   ]
  },
  {
   "cell_type": "markdown",
   "metadata": {},
   "source": [
    "### Define Layers"
   ]
  },
  {
   "cell_type": "code",
   "execution_count": 3,
   "metadata": {
    "collapsed": false
   },
   "outputs": [
    {
     "name": "stdout",
     "output_type": "stream",
     "text": [
      "(?, 784)\n",
      "(784, 1000)\n",
      "(1000,)\n",
      "(?, 1000)\n"
     ]
    }
   ],
   "source": [
    "# input data\n",
    "x = tf.placeholder(tf.float32, [None, 784])\n",
    "\n",
    "# 1st fully connected layer\n",
    "w1 = tf.Variable(tf.truncated_normal([784, 1000]))\n",
    "b1 = tf.Variable(tf.constant(0.1, shape=[1000]))\n",
    "hidden1 = tf.nn.relu(tf.matmul(x, w1) + b1)\n",
    "\n",
    "# check dim\n",
    "print(x.get_shape())\n",
    "print(w1.get_shape())\n",
    "print(b1.get_shape())\n",
    "print(hidden1.get_shape())"
   ]
  },
  {
   "cell_type": "code",
   "execution_count": 4,
   "metadata": {
    "collapsed": false
   },
   "outputs": [
    {
     "name": "stdout",
     "output_type": "stream",
     "text": [
      "(1000, 1000)\n",
      "(1000,)\n",
      "(?, 1000)\n"
     ]
    }
   ],
   "source": [
    "# 2nd fully connected layer\n",
    "w2 = tf.Variable(tf.truncated_normal([1000, 1000]))\n",
    "b2 = tf.Variable(tf.constant(0.1, shape=[1000]))\n",
    "hidden2 = tf.nn.relu(tf.matmul(hidden1, w2) + b2)\n",
    "\n",
    "# check dim\n",
    "print(w2.get_shape())\n",
    "print(b2.get_shape())\n",
    "print(hidden2.get_shape())"
   ]
  },
  {
   "cell_type": "code",
   "execution_count": 5,
   "metadata": {
    "collapsed": false
   },
   "outputs": [
    {
     "name": "stdout",
     "output_type": "stream",
     "text": [
      "(1000, 1000)\n",
      "(1000,)\n",
      "(?, 1000)\n"
     ]
    }
   ],
   "source": [
    "# 3rd fully connected layer\n",
    "w3 = tf.Variable(tf.truncated_normal([1000, 1000]))\n",
    "b3 = tf.Variable(tf.constant(0.1, shape=[1000]))\n",
    "hidden3 = tf.nn.relu(tf.matmul(hidden2, w3) + b3)\n",
    "\n",
    "# check dim\n",
    "print(w3.get_shape())\n",
    "print(b3.get_shape())\n",
    "print(hidden3.get_shape())"
   ]
  },
  {
   "cell_type": "code",
   "execution_count": 6,
   "metadata": {
    "collapsed": false
   },
   "outputs": [
    {
     "name": "stdout",
     "output_type": "stream",
     "text": [
      "(1000, 10)\n",
      "(10,)\n",
      "(?, 10)\n",
      "(?, 10)\n"
     ]
    }
   ],
   "source": [
    "# ouput layer\n",
    "w4 = tf.Variable(tf.zeros([1000, 10]))\n",
    "b4 = tf.Variable(tf.zeros([10]))\n",
    "output = tf.matmul(hidden3, w4) + b4\n",
    "output_after_softmax = tf.nn.softmax(output)\n",
    "\n",
    "# check dim\n",
    "print(w4.get_shape())\n",
    "print(b4.get_shape())\n",
    "print(output.get_shape())\n",
    "print(output_after_softmax.get_shape())"
   ]
  },
  {
   "cell_type": "markdown",
   "metadata": {},
   "source": [
    "### Define Cost function"
   ]
  },
  {
   "cell_type": "code",
   "execution_count": 7,
   "metadata": {
    "collapsed": false
   },
   "outputs": [],
   "source": [
    "#define loss (cost) function\n",
    "true_labels = tf.placeholder(tf.float32, [None, 10])\n",
    "loss = tf.reduce_mean(tf.nn.softmax_cross_entropy_with_logits(logits = output, labels = true_labels)) \n",
    "train_step = tf.train.AdamOptimizer(0.0001).minimize(loss)\n",
    "correct_prediction = tf.equal(tf.argmax(output_after_softmax, 1), tf.argmax(true_labels, 1))\n",
    "accuracy = tf.reduce_mean(tf.cast(correct_prediction, tf.float32))"
   ]
  },
  {
   "cell_type": "markdown",
   "metadata": {},
   "source": [
    "## Training and Testing"
   ]
  },
  {
   "cell_type": "code",
   "execution_count": 8,
   "metadata": {
    "collapsed": false
   },
   "outputs": [
    {
     "name": "stdout",
     "output_type": "stream",
     "text": [
      "epoch 1.000000 in 5.000000\n",
      "epoch: 1, Loss: 1.763942, Accuracy: 0.916200\n",
      "epoch 2.000000 in 5.000000\n",
      "epoch: 2, Loss: 0.822287, Accuracy: 0.932300\n",
      "epoch 3.000000 in 5.000000\n",
      "epoch: 3, Loss: 0.720912, Accuracy: 0.932500\n",
      "epoch 4.000000 in 5.000000\n",
      "epoch: 4, Loss: 0.757762, Accuracy: 0.928900\n",
      "epoch 5.000000 in 5.000000\n",
      "epoch: 5, Loss: 0.828864, Accuracy: 0.924100\n"
     ]
    }
   ],
   "source": [
    "# prepare session\n",
    "sess = tf.InteractiveSession()\n",
    "sess.run(tf.global_variables_initializer())\n",
    "saver = tf.train.Saver()\n",
    "\n",
    "\n",
    "# start training\n",
    "training_epochs = 5\n",
    "batch_size = 500\n",
    "train_data_size = mnist.train.num_examples\n",
    "total_batch = int(train_data_size/batch_size)\n",
    "\n",
    "# Training cycle\n",
    "for epoch in range(training_epochs):\n",
    "    print ('epoch %f in %f'% (epoch+1, training_epochs))\n",
    "    \n",
    "    # generate random indexes\n",
    "    indexes = np.random.permutation(train_data_size)\n",
    "    \n",
    "    # Loop over all batches\n",
    "    for position in range(0, train_data_size, batch_size):\n",
    "        # generate mini batch ids\n",
    "        ids = indexes[position:(position+batch_size) if (position+batch_size) < train_data_size else train_data_size]\n",
    "        batch_xs = mnist.train.images[ids]\n",
    "        batch_ts = mnist.train.labels[ids]\n",
    "        sess.run(train_step,feed_dict={x:batch_xs, true_labels:batch_ts})\n",
    "        \n",
    "    # now we test model per epoch\n",
    "    loss_val, acc_val = sess.run([loss, accuracy],feed_dict={x:mnist.test.images,true_labels:mnist.test.labels})\n",
    "    print ('epoch: %d, Loss: %f, Accuracy: %f'% (epoch+1, loss_val, acc_val))\n",
    "    \n",
    "saver.save(sess, './model/dnn_session')\n",
    "sess.close()"
   ]
  }
 ],
 "metadata": {
  "kernelspec": {
   "display_name": "Python 3",
   "language": "python",
   "name": "python3"
  },
  "language_info": {
   "codemirror_mode": {
    "name": "ipython",
    "version": 3
   },
   "file_extension": ".py",
   "mimetype": "text/x-python",
   "name": "python",
   "nbconvert_exporter": "python",
   "pygments_lexer": "ipython3",
   "version": "3.5.2"
  },
  "toc": {
   "colors": {
    "hover_highlight": "#DAA520",
    "running_highlight": "#FF0000",
    "selected_highlight": "#FFD700"
   },
   "moveMenuLeft": true,
   "nav_menu": {
    "height": "114px",
    "width": "254px"
   },
   "navigate_menu": true,
   "number_sections": true,
   "sideBar": true,
   "threshold": 4,
   "toc_cell": false,
   "toc_section_display": "block",
   "toc_window_display": true
  }
 },
 "nbformat": 4,
 "nbformat_minor": 2
}
