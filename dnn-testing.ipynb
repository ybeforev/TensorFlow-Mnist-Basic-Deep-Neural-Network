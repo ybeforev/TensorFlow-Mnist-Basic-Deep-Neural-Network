{
 "cells": [
  {
   "cell_type": "markdown",
   "metadata": {},
   "source": [
    "# Load DNN"
   ]
  },
  {
   "cell_type": "code",
   "execution_count": 7,
   "metadata": {
    "collapsed": true
   },
   "outputs": [],
   "source": [
    "import tensorflow as tf\n",
    "import numpy as np\n",
    "import matplotlib.pyplot as plt\n",
    "%matplotlib inline\n",
    "from tensorflow.examples.tutorials.mnist import input_data"
   ]
  },
  {
   "cell_type": "code",
   "execution_count": 2,
   "metadata": {
    "collapsed": false
   },
   "outputs": [
    {
     "name": "stdout",
     "output_type": "stream",
     "text": [
      "Extracting ./data/train-images-idx3-ubyte.gz\n",
      "Extracting ./data/train-labels-idx1-ubyte.gz\n",
      "Extracting ./data/t10k-images-idx3-ubyte.gz\n",
      "Extracting ./data/t10k-labels-idx1-ubyte.gz\n"
     ]
    }
   ],
   "source": [
    "#Call tf.reset_default_graph() before you build your model (and the Saver). This will ensure that the variables get the names you intended, but it will invalidate previously-created graphs.\n",
    "tf.reset_default_graph() \n",
    "\n",
    "# random number seed\n",
    "np.random.seed(0)\n",
    "tf.set_random_seed(0)\n",
    "\n",
    "# load data\n",
    "mnist = input_data.read_data_sets(\"./data/\", one_hot=True)"
   ]
  },
  {
   "cell_type": "markdown",
   "metadata": {},
   "source": [
    "## Define Model before loading"
   ]
  },
  {
   "cell_type": "code",
   "execution_count": 3,
   "metadata": {
    "collapsed": true
   },
   "outputs": [],
   "source": [
    "# input data\n",
    "x = tf.placeholder(tf.float32, [None, 784])\n",
    "\n",
    "# 1st fully connected layer\n",
    "w1 = tf.Variable(tf.truncated_normal([784, 1000]))\n",
    "b1 = tf.Variable(tf.constant(0.1, shape=[1000]))\n",
    "hidden1 = tf.nn.relu(tf.matmul(x, w1) + b1)\n",
    "\n",
    "# 2nd fully connected layer\n",
    "w2 = tf.Variable(tf.truncated_normal([1000, 1000]))\n",
    "b2 = tf.Variable(tf.constant(0.1, shape=[1000]))\n",
    "hidden2 = tf.nn.relu(tf.matmul(hidden1, w2) + b2)\n",
    "\n",
    "# 3rd fully connected layer\n",
    "w3 = tf.Variable(tf.truncated_normal([1000, 1000]))\n",
    "b3 = tf.Variable(tf.constant(0.1, shape=[1000]))\n",
    "hidden3 = tf.nn.relu(tf.matmul(hidden2, w3) + b3)\n",
    "\n",
    "# ouput layer\n",
    "w4 = tf.Variable(tf.zeros([1000, 10]))\n",
    "b4 = tf.Variable(tf.zeros([10]))\n",
    "output = tf.matmul(hidden3, w4) + b4\n",
    "output_after_softmax = tf.nn.softmax(output)\n",
    "\n",
    "#define loss (cost) function\n",
    "true_labels = tf.placeholder(tf.float32, [None, 10])\n",
    "loss = tf.reduce_mean(tf.nn.softmax_cross_entropy_with_logits(logits = output, labels = true_labels)) \n",
    "# train_step = tf.train.AdamOptimizer(0.0001).minimize(loss)\n",
    "correct_prediction = tf.equal(tf.argmax(output_after_softmax, 1), tf.argmax(true_labels, 1))\n",
    "accuracy = tf.reduce_mean(tf.cast(correct_prediction, tf.float32))"
   ]
  },
  {
   "cell_type": "markdown",
   "metadata": {},
   "source": [
    "## Load model"
   ]
  },
  {
   "cell_type": "code",
   "execution_count": 4,
   "metadata": {
    "collapsed": false
   },
   "outputs": [],
   "source": [
    "# prepare session\n",
    "sess = tf.InteractiveSession()\n",
    "sess.run(tf.global_variables_initializer())\n",
    "saver = tf.train.Saver()\n",
    "saver.restore(sess, \"./model/dnn_session\")"
   ]
  },
  {
   "cell_type": "markdown",
   "metadata": {},
   "source": [
    "## Exploits model"
   ]
  },
  {
   "cell_type": "code",
   "execution_count": 5,
   "metadata": {
    "collapsed": false
   },
   "outputs": [
    {
     "name": "stdout",
     "output_type": "stream",
     "text": [
      "Loss: 0.828864, Accuracy: 0.924100\n"
     ]
    }
   ],
   "source": [
    "# now we test model per epoch\n",
    "loss_val, acc_val = sess.run([loss, accuracy],feed_dict={x:mnist.test.images,true_labels:mnist.test.labels})\n",
    "print ('Loss: %f, Accuracy: %f'% (loss_val, acc_val))"
   ]
  },
  {
   "cell_type": "code",
   "execution_count": 8,
   "metadata": {
    "collapsed": false
   },
   "outputs": [
    {
     "data": {
      "text/plain": [
       "<matplotlib.image.AxesImage at 0x1219b4128>"
      ]
     },
     "execution_count": 8,
     "metadata": {},
     "output_type": "execute_result"
    },
    {
     "data": {
      "image/png": "[encoded data removed]",
      "text/plain": [
       "<matplotlib.figure.Figure at 0x120aa7da0>"
      ]
     },
     "metadata": {},
     "output_type": "display_data"
    }
   ],
   "source": [
    "fig = plt.figure(figsize=(8, 6))\n",
    "ax0 = fig.add_subplot(2, 1, 1)\n",
    "ax0.imshow(mnist.test.images[0].reshape([28, 28]),cmap=plt.cm.gray_r, interpolation='nearest')"
   ]
  },
  {
   "cell_type": "code",
   "execution_count": 9,
   "metadata": {
    "collapsed": false
   },
   "outputs": [
    {
     "data": {
      "image/png": "[encoded data removed]",
      "text/plain": [
       "<matplotlib.figure.Figure at 0x104864e10>"
      ]
     },
     "metadata": {},
     "output_type": "display_data"
    }
   ],
   "source": [
    "p_val = sess.run(output_after_softmax, feed_dict={x:[mnist.test.images[0]]})\n",
    "\n",
    "fig = plt.figure(figsize=(4,2))\n",
    "pred = p_val[0]\n",
    "subplot = fig.add_subplot(1,1,1)\n",
    "subplot.set_xticks(range(10))\n",
    "subplot.set_xlim(-0.5,9.5)\n",
    "subplot.set_ylim(0,1)\n",
    "subplot.bar(range(10), pred, align='center')\n",
    "plt.show()"
   ]
  }
 ],
 "metadata": {
  "kernelspec": {
   "display_name": "Python 3",
   "language": "python",
   "name": "python3"
  },
  "language_info": {
   "codemirror_mode": {
    "name": "ipython",
    "version": 3
   },
   "file_extension": ".py",
   "mimetype": "text/x-python",
   "name": "python",
   "nbconvert_exporter": "python",
   "pygments_lexer": "ipython3",
   "version": "3.5.2"
  },
  "toc": {
   "colors": {
    "hover_highlight": "#DAA520",
    "running_highlight": "#FF0000",
    "selected_highlight": "#FFD700"
   },
   "moveMenuLeft": true,
   "nav_menu": {
    "height": "112px",
    "width": "254px"
   },
   "navigate_menu": true,
   "number_sections": true,
   "sideBar": true,
   "threshold": 4,
   "toc_cell": false,
   "toc_section_display": "block",
   "toc_window_display": true
  }
 },
 "nbformat": 4,
 "nbformat_minor": 2
}
